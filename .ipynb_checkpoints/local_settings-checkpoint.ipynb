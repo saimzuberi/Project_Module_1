{
 "cells": [
  {
   "cell_type": "code",
   "execution_count": 1,
   "id": "8cc01058-103f-42c2-bf67-9f44e64d15c2",
   "metadata": {},
   "outputs": [],
   "source": [
    "polygon = {\n",
    "    'api_key':'7TvgfyF7r_J6E4OWLhwkDYDKnkTjzwPL'\n",
    "}"
   ]
  },
  {
   "cell_type": "code",
   "execution_count": null,
   "id": "5d78c68b-03e7-472a-9028-e909a95276a3",
   "metadata": {},
   "outputs": [],
   "source": []
  }
 ],
 "metadata": {
  "kernelspec": {
   "display_name": "Python 3 (ipykernel)",
   "language": "python",
   "name": "python3"
  },
  "language_info": {
   "codemirror_mode": {
    "name": "ipython",
    "version": 3
   },
   "file_extension": ".py",
   "mimetype": "text/x-python",
   "name": "python",
   "nbconvert_exporter": "python",
   "pygments_lexer": "ipython3",
   "version": "3.7.13"
  }
 },
 "nbformat": 4,
 "nbformat_minor": 5
}
